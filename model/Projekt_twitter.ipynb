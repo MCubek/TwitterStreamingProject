{
  "cells": [
    {
      "cell_type": "markdown",
      "metadata": {
        "id": "jbofPY3eNKR_"
      },
      "source": [
        "### Libraries"
      ]
    },
    {
      "cell_type": "code",
      "execution_count": null,
      "metadata": {
        "id": "UjwGjz3wX4N_"
      },
      "outputs": [],
      "source": [
        "# pip install -U pip setuptools wheel"
      ]
    },
    {
      "cell_type": "code",
      "execution_count": null,
      "metadata": {
        "id": "wIYUUByxX7ce"
      },
      "outputs": [],
      "source": [
        "# pip install -U spacy"
      ]
    },
    {
      "cell_type": "code",
      "execution_count": null,
      "metadata": {
        "id": "HpNgh-89X7ez"
      },
      "outputs": [],
      "source": [
        "# !python -m spacy download en"
      ]
    },
    {
      "cell_type": "code",
      "execution_count": null,
      "metadata": {
        "id": "vAH-WyuHWWpr"
      },
      "outputs": [],
      "source": [
        "# pip install --upgrade spacy"
      ]
    },
    {
      "cell_type": "code",
      "execution_count": null,
      "metadata": {
        "id": "ufTACHR-XJK6"
      },
      "outputs": [],
      "source": [
        "# pip install ekphrasis -U"
      ]
    },
    {
      "cell_type": "code",
      "execution_count": 2,
      "metadata": {
        "id": "Jeap_P-kVnaR"
      },
      "outputs": [],
      "source": [
        "import re\n",
        "import numpy as np\n",
        "import pandas as pd\n",
        "import seaborn as sns\n",
        "from wordcloud import WordCloud\n",
        "import matplotlib.pyplot as plt\n",
        "from nltk.stem import WordNetLemmatizer\n",
        "from nltk.stem.porter import *\n",
        "from nltk.tokenize.casual import TweetTokenizer\n",
        "from sklearn.svm import LinearSVC\n",
        "from sklearn.naive_bayes import BernoulliNB\n",
        "from sklearn.linear_model import LogisticRegression\n",
        "from sklearn.model_selection import train_test_split\n",
        "from sklearn.feature_extraction.text import TfidfVectorizer\n",
        "from sklearn.metrics import confusion_matrix, classification_report\n",
        "from ekphrasis.classes.segmenter import Segmenter\n",
        "# import spacy"
      ]
    },
    {
      "cell_type": "code",
      "execution_count": null,
      "metadata": {
        "id": "GX4Or_fsYNE_"
      },
      "outputs": [],
      "source": [
        "# nlp = spacy.load(\"en_core_web_md\")"
      ]
    },
    {
      "cell_type": "markdown",
      "metadata": {
        "id": "SLUUo1i1NOq7"
      },
      "source": [
        "### Load dataset"
      ]
    },
    {
      "cell_type": "code",
      "execution_count": 3,
      "metadata": {
        "colab": {
          "base_uri": "https://localhost:8080/"
        },
        "id": "2gz40XGTNkR9",
        "outputId": "9ba7801a-40b2-487a-a597-b436092e2e37"
      },
      "outputs": [
        {
          "output_type": "stream",
          "name": "stdout",
          "text": [
            "Drive already mounted at /content/drive; to attempt to forcibly remount, call drive.mount(\"/content/drive\", force_remount=True).\n"
          ]
        }
      ],
      "source": [
        "from google.colab import drive\n",
        "drive.mount('/content/drive')"
      ]
    },
    {
      "cell_type": "code",
      "execution_count": 4,
      "metadata": {
        "colab": {
          "base_uri": "https://localhost:8080/"
        },
        "id": "vlrGVFd5Nqa4",
        "outputId": "0038ef9e-5f2c-4f81-b6cd-4f71ac5ebb03"
      },
      "outputs": [
        {
          "output_type": "stream",
          "name": "stdout",
          "text": [
            "/content/drive/MyDrive/twitter\n"
          ]
        }
      ],
      "source": [
        "%cd drive/MyDrive/twitter/"
      ]
    },
    {
      "cell_type": "code",
      "execution_count": 22,
      "metadata": {
        "colab": {
          "base_uri": "https://localhost:8080/",
          "height": 250
        },
        "id": "gipKKtUENOyN",
        "outputId": "1c532b55-c925-4589-f623-7296620d32df"
      },
      "outputs": [
        {
          "output_type": "execute_result",
          "data": {
            "text/plain": [
              "         target         ids                          date      flag  \\\n",
              "1534944       4  2178886650  Mon Jun 15 08:20:44 PDT 2009  NO_QUERY   \n",
              "503507        0  2187861295  Mon Jun 15 20:55:12 PDT 2009  NO_QUERY   \n",
              "234351        0  1979567657  Sun May 31 03:36:17 PDT 2009  NO_QUERY   \n",
              "49733         0  1678242361  Sat May 02 06:02:33 PDT 2009  NO_QUERY   \n",
              "218502        0  1976183522  Sat May 30 16:46:11 PDT 2009  NO_QUERY   \n",
              "\n",
              "                 user                                               text  \n",
              "1534944      tobsters               Happy #squarespace Monday to all...   \n",
              "503507     WtlEliCash  @williamtprice We start recording tomorrw  but...  \n",
              "234351       helen_lo  Now I'm sucked in to Mary Whitehouse.  Will ha...  \n",
              "49733        cutiedel  What ever I do I just think the moment again a...  \n",
              "218502   misschris555        chicago tomorrow  flying alone. xanax. yes.  "
            ],
            "text/html": [
              "\n",
              "  <div id=\"df-922ca904-93a8-40fd-b193-c504c2d99828\">\n",
              "    <div class=\"colab-df-container\">\n",
              "      <div>\n",
              "<style scoped>\n",
              "    .dataframe tbody tr th:only-of-type {\n",
              "        vertical-align: middle;\n",
              "    }\n",
              "\n",
              "    .dataframe tbody tr th {\n",
              "        vertical-align: top;\n",
              "    }\n",
              "\n",
              "    .dataframe thead th {\n",
              "        text-align: right;\n",
              "    }\n",
              "</style>\n",
              "<table border=\"1\" class=\"dataframe\">\n",
              "  <thead>\n",
              "    <tr style=\"text-align: right;\">\n",
              "      <th></th>\n",
              "      <th>target</th>\n",
              "      <th>ids</th>\n",
              "      <th>date</th>\n",
              "      <th>flag</th>\n",
              "      <th>user</th>\n",
              "      <th>text</th>\n",
              "    </tr>\n",
              "  </thead>\n",
              "  <tbody>\n",
              "    <tr>\n",
              "      <th>1534944</th>\n",
              "      <td>4</td>\n",
              "      <td>2178886650</td>\n",
              "      <td>Mon Jun 15 08:20:44 PDT 2009</td>\n",
              "      <td>NO_QUERY</td>\n",
              "      <td>tobsters</td>\n",
              "      <td>Happy #squarespace Monday to all...</td>\n",
              "    </tr>\n",
              "    <tr>\n",
              "      <th>503507</th>\n",
              "      <td>0</td>\n",
              "      <td>2187861295</td>\n",
              "      <td>Mon Jun 15 20:55:12 PDT 2009</td>\n",
              "      <td>NO_QUERY</td>\n",
              "      <td>WtlEliCash</td>\n",
              "      <td>@williamtprice We start recording tomorrw  but...</td>\n",
              "    </tr>\n",
              "    <tr>\n",
              "      <th>234351</th>\n",
              "      <td>0</td>\n",
              "      <td>1979567657</td>\n",
              "      <td>Sun May 31 03:36:17 PDT 2009</td>\n",
              "      <td>NO_QUERY</td>\n",
              "      <td>helen_lo</td>\n",
              "      <td>Now I'm sucked in to Mary Whitehouse.  Will ha...</td>\n",
              "    </tr>\n",
              "    <tr>\n",
              "      <th>49733</th>\n",
              "      <td>0</td>\n",
              "      <td>1678242361</td>\n",
              "      <td>Sat May 02 06:02:33 PDT 2009</td>\n",
              "      <td>NO_QUERY</td>\n",
              "      <td>cutiedel</td>\n",
              "      <td>What ever I do I just think the moment again a...</td>\n",
              "    </tr>\n",
              "    <tr>\n",
              "      <th>218502</th>\n",
              "      <td>0</td>\n",
              "      <td>1976183522</td>\n",
              "      <td>Sat May 30 16:46:11 PDT 2009</td>\n",
              "      <td>NO_QUERY</td>\n",
              "      <td>misschris555</td>\n",
              "      <td>chicago tomorrow  flying alone. xanax. yes.</td>\n",
              "    </tr>\n",
              "  </tbody>\n",
              "</table>\n",
              "</div>\n",
              "      <button class=\"colab-df-convert\" onclick=\"convertToInteractive('df-922ca904-93a8-40fd-b193-c504c2d99828')\"\n",
              "              title=\"Convert this dataframe to an interactive table.\"\n",
              "              style=\"display:none;\">\n",
              "        \n",
              "  <svg xmlns=\"http://www.w3.org/2000/svg\" height=\"24px\"viewBox=\"0 0 24 24\"\n",
              "       width=\"24px\">\n",
              "    <path d=\"M0 0h24v24H0V0z\" fill=\"none\"/>\n",
              "    <path d=\"M18.56 5.44l.94 2.06.94-2.06 2.06-.94-2.06-.94-.94-2.06-.94 2.06-2.06.94zm-11 1L8.5 8.5l.94-2.06 2.06-.94-2.06-.94L8.5 2.5l-.94 2.06-2.06.94zm10 10l.94 2.06.94-2.06 2.06-.94-2.06-.94-.94-2.06-.94 2.06-2.06.94z\"/><path d=\"M17.41 7.96l-1.37-1.37c-.4-.4-.92-.59-1.43-.59-.52 0-1.04.2-1.43.59L10.3 9.45l-7.72 7.72c-.78.78-.78 2.05 0 2.83L4 21.41c.39.39.9.59 1.41.59.51 0 1.02-.2 1.41-.59l7.78-7.78 2.81-2.81c.8-.78.8-2.07 0-2.86zM5.41 20L4 18.59l7.72-7.72 1.47 1.35L5.41 20z\"/>\n",
              "  </svg>\n",
              "      </button>\n",
              "      \n",
              "  <style>\n",
              "    .colab-df-container {\n",
              "      display:flex;\n",
              "      flex-wrap:wrap;\n",
              "      gap: 12px;\n",
              "    }\n",
              "\n",
              "    .colab-df-convert {\n",
              "      background-color: #E8F0FE;\n",
              "      border: none;\n",
              "      border-radius: 50%;\n",
              "      cursor: pointer;\n",
              "      display: none;\n",
              "      fill: #1967D2;\n",
              "      height: 32px;\n",
              "      padding: 0 0 0 0;\n",
              "      width: 32px;\n",
              "    }\n",
              "\n",
              "    .colab-df-convert:hover {\n",
              "      background-color: #E2EBFA;\n",
              "      box-shadow: 0px 1px 2px rgba(60, 64, 67, 0.3), 0px 1px 3px 1px rgba(60, 64, 67, 0.15);\n",
              "      fill: #174EA6;\n",
              "    }\n",
              "\n",
              "    [theme=dark] .colab-df-convert {\n",
              "      background-color: #3B4455;\n",
              "      fill: #D2E3FC;\n",
              "    }\n",
              "\n",
              "    [theme=dark] .colab-df-convert:hover {\n",
              "      background-color: #434B5C;\n",
              "      box-shadow: 0px 1px 3px 1px rgba(0, 0, 0, 0.15);\n",
              "      filter: drop-shadow(0px 1px 2px rgba(0, 0, 0, 0.3));\n",
              "      fill: #FFFFFF;\n",
              "    }\n",
              "  </style>\n",
              "\n",
              "      <script>\n",
              "        const buttonEl =\n",
              "          document.querySelector('#df-922ca904-93a8-40fd-b193-c504c2d99828 button.colab-df-convert');\n",
              "        buttonEl.style.display =\n",
              "          google.colab.kernel.accessAllowed ? 'block' : 'none';\n",
              "\n",
              "        async function convertToInteractive(key) {\n",
              "          const element = document.querySelector('#df-922ca904-93a8-40fd-b193-c504c2d99828');\n",
              "          const dataTable =\n",
              "            await google.colab.kernel.invokeFunction('convertToInteractive',\n",
              "                                                     [key], {});\n",
              "          if (!dataTable) return;\n",
              "\n",
              "          const docLinkHtml = 'Like what you see? Visit the ' +\n",
              "            '<a target=\"_blank\" href=https://colab.research.google.com/notebooks/data_table.ipynb>data table notebook</a>'\n",
              "            + ' to learn more about interactive tables.';\n",
              "          element.innerHTML = '';\n",
              "          dataTable['output_type'] = 'display_data';\n",
              "          await google.colab.output.renderOutput(dataTable, element);\n",
              "          const docLink = document.createElement('div');\n",
              "          docLink.innerHTML = docLinkHtml;\n",
              "          element.appendChild(docLink);\n",
              "        }\n",
              "      </script>\n",
              "    </div>\n",
              "  </div>\n",
              "  "
            ]
          },
          "metadata": {},
          "execution_count": 22
        }
      ],
      "source": [
        "DATASET_COLUMNS=['target','ids','date','flag','user','text']\n",
        "DATASET_ENCODING = \"ISO-8859-1\"\n",
        "df = pd.read_csv('data.csv', encoding=DATASET_ENCODING, names=DATASET_COLUMNS)\n",
        "df.sample(5)"
      ]
    },
    {
      "cell_type": "code",
      "execution_count": 23,
      "metadata": {
        "id": "JgZIfm38Ruo1",
        "colab": {
          "base_uri": "https://localhost:8080/"
        },
        "outputId": "cd4d824a-ae17-4731-84fb-9f98257117a4"
      },
      "outputs": [
        {
          "output_type": "stream",
          "name": "stderr",
          "text": [
            "<ipython-input-23-1f5c8535f2ca>:2: SettingWithCopyWarning: \n",
            "A value is trying to be set on a copy of a slice from a DataFrame.\n",
            "Try using .loc[row_indexer,col_indexer] = value instead\n",
            "\n",
            "See the caveats in the documentation: https://pandas.pydata.org/pandas-docs/stable/user_guide/indexing.html#returning-a-view-versus-a-copy\n",
            "  df['target'] = df['target'].replace(4, 1)\n"
          ]
        }
      ],
      "source": [
        "df = df[['text', 'target']]\n",
        "df['target'] = df['target'].replace(4, 1)"
      ]
    },
    {
      "cell_type": "markdown",
      "metadata": {
        "id": "Ccb1Sr62OhWe"
      },
      "source": [
        "### Plots n stuff"
      ]
    },
    {
      "cell_type": "code",
      "execution_count": 24,
      "metadata": {
        "colab": {
          "base_uri": "https://localhost:8080/"
        },
        "id": "BtzBQJnjOhfL",
        "outputId": "91079c6f-24ea-4992-dc5e-8e397a71ca1d"
      },
      "outputs": [
        {
          "output_type": "stream",
          "name": "stdout",
          "text": [
            "Dataset size: 1600000\n",
            "-----------------------\n",
            "(1600000, 2)\n",
            "-----------------------\n",
            "text      object\n",
            "target     int64\n",
            "dtype: object\n"
          ]
        }
      ],
      "source": [
        "print('Dataset size:', len(df))\n",
        "print(\"-----------------------\")\n",
        "print(df.shape)\n",
        "print(\"-----------------------\")\n",
        "print(df.dtypes)"
      ]
    },
    {
      "cell_type": "code",
      "execution_count": 25,
      "metadata": {
        "colab": {
          "base_uri": "https://localhost:8080/"
        },
        "id": "xfULOTmrPChx",
        "outputId": "ebd0caa6-a5f2-47a4-bf5c-0d6bc0df7125"
      },
      "outputs": [
        {
          "output_type": "execute_result",
          "data": {
            "text/plain": [
              "0"
            ]
          },
          "metadata": {},
          "execution_count": 25
        }
      ],
      "source": [
        "np.sum(df.isnull().any(axis=1))"
      ]
    },
    {
      "cell_type": "code",
      "execution_count": 27,
      "metadata": {
        "colab": {
          "base_uri": "https://localhost:8080/",
          "height": 297
        },
        "id": "gcNGgJf8Po5b",
        "outputId": "b5067c04-de37-4fe4-da39-77aa591cf471"
      },
      "outputs": [
        {
          "output_type": "execute_result",
          "data": {
            "text/plain": [
              "<matplotlib.axes._subplots.AxesSubplot at 0x7f3e77a53d30>"
            ]
          },
          "metadata": {},
          "execution_count": 27
        },
        {
          "output_type": "display_data",
          "data": {
            "text/plain": [
              "<Figure size 432x288 with 1 Axes>"
            ],
            "image/png": "[encoded data removed]"
          },
          "metadata": {
            "needs_background": "light"
          }
        }
      ],
      "source": [
        "sns.countplot(x='target', data=df)"
      ]
    },
    {
      "cell_type": "markdown",
      "metadata": {
        "id": "BZddp49cRkTw"
      },
      "source": [
        "### Preprocessing"
      ]
    },
    {
      "cell_type": "code",
      "execution_count": 28,
      "metadata": {
        "colab": {
          "base_uri": "https://localhost:8080/"
        },
        "id": "FVbnwQobRm-b",
        "outputId": "72a36243-d250-4801-c2eb-d4b8b4a4870b"
      },
      "outputs": [
        {
          "output_type": "stream",
          "name": "stdout",
          "text": [
            "[0 1]\n"
          ]
        }
      ],
      "source": [
        "print(df['target'].unique())"
      ]
    },
    {
      "cell_type": "code",
      "execution_count": 29,
      "metadata": {
        "id": "kPgcZN4ASLyD"
      },
      "outputs": [],
      "source": [
        "df_negative = df[df['target'] == 0]\n",
        "df_positive = df[df['target'] == 1]"
      ]
    },
    {
      "cell_type": "code",
      "execution_count": 30,
      "metadata": {
        "id": "gZOJqzCKSkDU"
      },
      "outputs": [],
      "source": [
        "df = pd.concat([df_negative, df_positive])"
      ]
    },
    {
      "cell_type": "code",
      "execution_count": 31,
      "metadata": {
        "id": "97RCcqZNVhXp"
      },
      "outputs": [],
      "source": [
        "tokenizer = TweetTokenizer(preserve_case=True, reduce_len=True, strip_handles=True)\n",
        "df_tmp = df['text'].apply(tokenizer.tokenize)"
      ]
    },
    {
      "cell_type": "code",
      "execution_count": 32,
      "metadata": {
        "colab": {
          "base_uri": "https://localhost:8080/"
        },
        "id": "rM9M-XDYZKYn",
        "outputId": "1da6f3a6-ac4b-4c82-f6cd-4df625bf31ff"
      },
      "outputs": [
        {
          "output_type": "stream",
          "name": "stdout",
          "text": [
            "Reading twitter - 1grams ...\n",
            "Reading twitter - 2grams ...\n"
          ]
        }
      ],
      "source": [
        "seg_tw = Segmenter(corpus=\"twitter\")"
      ]
    },
    {
      "cell_type": "code",
      "execution_count": 33,
      "metadata": {
        "id": "JyxQJXLNWDE3"
      },
      "outputs": [],
      "source": [
        "def separate_hashtags(s):\n",
        "    '''Removes the hashtag sign and segments the hashtag text.'''\n",
        "    hashtags = []\n",
        "    \n",
        "    l = []\n",
        "    for i, s_i in enumerate(s):\n",
        "        if s_i.startswith('#'):\n",
        "            tmp = tokenizer.tokenize(seg_tw.segment(s_i.replace('#', '')))\n",
        "            l.extend(tmp)\n",
        "        else:\n",
        "            l.append(s_i)\n",
        "    return l\n",
        "            \n",
        "df_tmp = df_tmp.apply(separate_hashtags)"
      ]
    },
    {
      "cell_type": "code",
      "execution_count": 34,
      "metadata": {
        "id": "i71xSCb5TMJS"
      },
      "outputs": [],
      "source": [
        "def preprocess_words(s):\n",
        "    '''\n",
        "    Removes tags, links, smiley faces, | signs, stopwords and changes the case to lower.\n",
        "    '''\n",
        "    ret_list = []\n",
        "\n",
        "    smiley_regex = r'([\\:\\;\\=][()PDO\\/\\]\\[p|]+)+'\n",
        "    \n",
        "    is_tag = lambda w: w.startswith('@')\n",
        "    is_vertical_line = lambda w: w.startswith('|')\n",
        "    is_link = lambda w: w.startswith(\"http\") or w.startswith(\"https\")\n",
        "    is_hashtag = lambda w: w.startswith(\"#\")\n",
        "    is_smiley = lambda w: re.match(smiley_regex, w)\n",
        "\n",
        "    w2 = []\n",
        "    for i, w in enumerate(s):\n",
        "        if is_tag(w) or is_link(w) or is_vertical_line(w):\n",
        "            continue\n",
        "\n",
        "        elif is_hashtag(w):\n",
        "            w_tmp = w.replace('#', '')\n",
        "            if w_tmp != '':\n",
        "                lower_append(w_tmp, w2)\n",
        "\n",
        "        elif is_smiley(w):\n",
        "            w_tmp = re.sub(smiley_regex, '', w)\n",
        "            if w_tmp != '':\n",
        "                lower_append(w_tmp, w2)\n",
        "\n",
        "        else:\n",
        "            w_tmp = w.replace('#', '')\n",
        "            w_tmp = w_tmp.replace('|', '')\n",
        "            w_tmp = w_tmp.replace('_', '')\n",
        "            w_tmp = w_tmp.replace('...', '')\n",
        "            if w_tmp != '':\n",
        "                lower_append(w_tmp, w2)\n",
        "\n",
        "    return ' '.join([i for i in w2 if len(i) > 2])\n",
        "\n",
        "def lower_append(w, l):\n",
        "    l.append(w.lower())\n",
        "\n",
        "df['clean_text'] = df_tmp.apply(preprocess_words)"
      ]
    },
    {
      "cell_type": "code",
      "source": [
        "import string\n",
        "english_punctuations = string.punctuation\n",
        "punctuations_list = english_punctuations\n",
        "def cleaning_punctuations(text):\n",
        "    translator = str.maketrans('', '', punctuations_list)\n",
        "    return text.translate(translator)\n",
        "df['clean_text']= df['clean_text'].apply(lambda x: cleaning_punctuations(x))\n"
      ],
      "metadata": {
        "id": "yYy8bPKblqmA"
      },
      "execution_count": 35,
      "outputs": []
    },
    {
      "cell_type": "code",
      "execution_count": 36,
      "metadata": {
        "colab": {
          "base_uri": "https://localhost:8080/",
          "height": 538
        },
        "id": "IoNCkeZmW-JP",
        "outputId": "d9277088-91c7-4a1b-862b-7fa460f463fd"
      },
      "outputs": [
        {
          "output_type": "stream",
          "name": "stdout",
          "text": [
            "(1600000, 3)\n"
          ]
        },
        {
          "output_type": "execute_result",
          "data": {
            "text/plain": [
              "                                                 text  target  \\\n",
              "0   @switchfoot http://twitpic.com/2y1zl - Awww, t...       0   \n",
              "1   is upset that he can't update his Facebook by ...       0   \n",
              "2   @Kenichan I dived many times for the ball. Man...       0   \n",
              "3     my whole body feels itchy and like its on fire        0   \n",
              "4   @nationwideclass no, it's not behaving at all....       0   \n",
              "5                       @Kwesidei not the whole crew        0   \n",
              "6                                         Need a hug        0   \n",
              "7   @LOLTrish hey  long time no see! Yes.. Rains a...       0   \n",
              "8                @Tatiana_K nope they didn't have it        0   \n",
              "9                           @twittera que me muera ?        0   \n",
              "10        spring break in plain city... it's snowing        0   \n",
              "11                         I just re-pierced my ears        0   \n",
              "12  @caregiving I couldn't bear to watch it.  And ...       0   \n",
              "13  @octolinz16 It it counts, idk why I did either...       0   \n",
              "14  @smarrison i would've been the first, but i di...       0   \n",
              "\n",
              "                                           clean_text  \n",
              "0   aw thats bummer you shoulda got david carr thi...  \n",
              "1   upset that cant update his facebook texting an...  \n",
              "2   dived many times for the ball managed save the...  \n",
              "3            whole body feels itchy and like its fire  \n",
              "4   its not behaving all im mad why here because c...  \n",
              "5                                  not the whole crew  \n",
              "6                                            need hug  \n",
              "7   hey long time see yes rains bit only bit lol i...  \n",
              "8                                nope they didnt have  \n",
              "9                                           que muera  \n",
              "10                spring break plain city its snowing  \n",
              "11                                just repierced ears  \n",
              "12  couldnt bear watch and thought the loss was em...  \n",
              "13   counts idk why did either you never talk anymore  \n",
              "14  wouldve been the first but didnt have gun not ...  "
            ],
            "text/html": [
              "\n",
              "  <div id=\"df-041389c3-3cad-4d48-b769-2a6aeca8d328\">\n",
              "    <div class=\"colab-df-container\">\n",
              "      <div>\n",
              "<style scoped>\n",
              "    .dataframe tbody tr th:only-of-type {\n",
              "        vertical-align: middle;\n",
              "    }\n",
              "\n",
              "    .dataframe tbody tr th {\n",
              "        vertical-align: top;\n",
              "    }\n",
              "\n",
              "    .dataframe thead th {\n",
              "        text-align: right;\n",
              "    }\n",
              "</style>\n",
              "<table border=\"1\" class=\"dataframe\">\n",
              "  <thead>\n",
              "    <tr style=\"text-align: right;\">\n",
              "      <th></th>\n",
              "      <th>text</th>\n",
              "      <th>target</th>\n",
              "      <th>clean_text</th>\n",
              "    </tr>\n",
              "  </thead>\n",
              "  <tbody>\n",
              "    <tr>\n",
              "      <th>0</th>\n",
              "      <td>@switchfoot http://twitpic.com/2y1zl - Awww, t...</td>\n",
              "      <td>0</td>\n",
              "      <td>aw thats bummer you shoulda got david carr thi...</td>\n",
              "    </tr>\n",
              "    <tr>\n",
              "      <th>1</th>\n",
              "      <td>is upset that he can't update his Facebook by ...</td>\n",
              "      <td>0</td>\n",
              "      <td>upset that cant update his facebook texting an...</td>\n",
              "    </tr>\n",
              "    <tr>\n",
              "      <th>2</th>\n",
              "      <td>@Kenichan I dived many times for the ball. Man...</td>\n",
              "      <td>0</td>\n",
              "      <td>dived many times for the ball managed save the...</td>\n",
              "    </tr>\n",
              "    <tr>\n",
              "      <th>3</th>\n",
              "      <td>my whole body feels itchy and like its on fire</td>\n",
              "      <td>0</td>\n",
              "      <td>whole body feels itchy and like its fire</td>\n",
              "    </tr>\n",
              "    <tr>\n",
              "      <th>4</th>\n",
              "      <td>@nationwideclass no, it's not behaving at all....</td>\n",
              "      <td>0</td>\n",
              "      <td>its not behaving all im mad why here because c...</td>\n",
              "    </tr>\n",
              "    <tr>\n",
              "      <th>5</th>\n",
              "      <td>@Kwesidei not the whole crew</td>\n",
              "      <td>0</td>\n",
              "      <td>not the whole crew</td>\n",
              "    </tr>\n",
              "    <tr>\n",
              "      <th>6</th>\n",
              "      <td>Need a hug</td>\n",
              "      <td>0</td>\n",
              "      <td>need hug</td>\n",
              "    </tr>\n",
              "    <tr>\n",
              "      <th>7</th>\n",
              "      <td>@LOLTrish hey  long time no see! Yes.. Rains a...</td>\n",
              "      <td>0</td>\n",
              "      <td>hey long time see yes rains bit only bit lol i...</td>\n",
              "    </tr>\n",
              "    <tr>\n",
              "      <th>8</th>\n",
              "      <td>@Tatiana_K nope they didn't have it</td>\n",
              "      <td>0</td>\n",
              "      <td>nope they didnt have</td>\n",
              "    </tr>\n",
              "    <tr>\n",
              "      <th>9</th>\n",
              "      <td>@twittera que me muera ?</td>\n",
              "      <td>0</td>\n",
              "      <td>que muera</td>\n",
              "    </tr>\n",
              "    <tr>\n",
              "      <th>10</th>\n",
              "      <td>spring break in plain city... it's snowing</td>\n",
              "      <td>0</td>\n",
              "      <td>spring break plain city its snowing</td>\n",
              "    </tr>\n",
              "    <tr>\n",
              "      <th>11</th>\n",
              "      <td>I just re-pierced my ears</td>\n",
              "      <td>0</td>\n",
              "      <td>just repierced ears</td>\n",
              "    </tr>\n",
              "    <tr>\n",
              "      <th>12</th>\n",
              "      <td>@caregiving I couldn't bear to watch it.  And ...</td>\n",
              "      <td>0</td>\n",
              "      <td>couldnt bear watch and thought the loss was em...</td>\n",
              "    </tr>\n",
              "    <tr>\n",
              "      <th>13</th>\n",
              "      <td>@octolinz16 It it counts, idk why I did either...</td>\n",
              "      <td>0</td>\n",
              "      <td>counts idk why did either you never talk anymore</td>\n",
              "    </tr>\n",
              "    <tr>\n",
              "      <th>14</th>\n",
              "      <td>@smarrison i would've been the first, but i di...</td>\n",
              "      <td>0</td>\n",
              "      <td>wouldve been the first but didnt have gun not ...</td>\n",
              "    </tr>\n",
              "  </tbody>\n",
              "</table>\n",
              "</div>\n",
              "      <button class=\"colab-df-convert\" onclick=\"convertToInteractive('df-041389c3-3cad-4d48-b769-2a6aeca8d328')\"\n",
              "              title=\"Convert this dataframe to an interactive table.\"\n",
              "              style=\"display:none;\">\n",
              "        \n",
              "  <svg xmlns=\"http://www.w3.org/2000/svg\" height=\"24px\"viewBox=\"0 0 24 24\"\n",
              "       width=\"24px\">\n",
              "    <path d=\"M0 0h24v24H0V0z\" fill=\"none\"/>\n",
              "    <path d=\"M18.56 5.44l.94 2.06.94-2.06 2.06-.94-2.06-.94-.94-2.06-.94 2.06-2.06.94zm-11 1L8.5 8.5l.94-2.06 2.06-.94-2.06-.94L8.5 2.5l-.94 2.06-2.06.94zm10 10l.94 2.06.94-2.06 2.06-.94-2.06-.94-.94-2.06-.94 2.06-2.06.94z\"/><path d=\"M17.41 7.96l-1.37-1.37c-.4-.4-.92-.59-1.43-.59-.52 0-1.04.2-1.43.59L10.3 9.45l-7.72 7.72c-.78.78-.78 2.05 0 2.83L4 21.41c.39.39.9.59 1.41.59.51 0 1.02-.2 1.41-.59l7.78-7.78 2.81-2.81c.8-.78.8-2.07 0-2.86zM5.41 20L4 18.59l7.72-7.72 1.47 1.35L5.41 20z\"/>\n",
              "  </svg>\n",
              "      </button>\n",
              "      \n",
              "  <style>\n",
              "    .colab-df-container {\n",
              "      display:flex;\n",
              "      flex-wrap:wrap;\n",
              "      gap: 12px;\n",
              "    }\n",
              "\n",
              "    .colab-df-convert {\n",
              "      background-color: #E8F0FE;\n",
              "      border: none;\n",
              "      border-radius: 50%;\n",
              "      cursor: pointer;\n",
              "      display: none;\n",
              "      fill: #1967D2;\n",
              "      height: 32px;\n",
              "      padding: 0 0 0 0;\n",
              "      width: 32px;\n",
              "    }\n",
              "\n",
              "    .colab-df-convert:hover {\n",
              "      background-color: #E2EBFA;\n",
              "      box-shadow: 0px 1px 2px rgba(60, 64, 67, 0.3), 0px 1px 3px 1px rgba(60, 64, 67, 0.15);\n",
              "      fill: #174EA6;\n",
              "    }\n",
              "\n",
              "    [theme=dark] .colab-df-convert {\n",
              "      background-color: #3B4455;\n",
              "      fill: #D2E3FC;\n",
              "    }\n",
              "\n",
              "    [theme=dark] .colab-df-convert:hover {\n",
              "      background-color: #434B5C;\n",
              "      box-shadow: 0px 1px 3px 1px rgba(0, 0, 0, 0.15);\n",
              "      filter: drop-shadow(0px 1px 2px rgba(0, 0, 0, 0.3));\n",
              "      fill: #FFFFFF;\n",
              "    }\n",
              "  </style>\n",
              "\n",
              "      <script>\n",
              "        const buttonEl =\n",
              "          document.querySelector('#df-041389c3-3cad-4d48-b769-2a6aeca8d328 button.colab-df-convert');\n",
              "        buttonEl.style.display =\n",
              "          google.colab.kernel.accessAllowed ? 'block' : 'none';\n",
              "\n",
              "        async function convertToInteractive(key) {\n",
              "          const element = document.querySelector('#df-041389c3-3cad-4d48-b769-2a6aeca8d328');\n",
              "          const dataTable =\n",
              "            await google.colab.kernel.invokeFunction('convertToInteractive',\n",
              "                                                     [key], {});\n",
              "          if (!dataTable) return;\n",
              "\n",
              "          const docLinkHtml = 'Like what you see? Visit the ' +\n",
              "            '<a target=\"_blank\" href=https://colab.research.google.com/notebooks/data_table.ipynb>data table notebook</a>'\n",
              "            + ' to learn more about interactive tables.';\n",
              "          element.innerHTML = '';\n",
              "          dataTable['output_type'] = 'display_data';\n",
              "          await google.colab.output.renderOutput(dataTable, element);\n",
              "          const docLink = document.createElement('div');\n",
              "          docLink.innerHTML = docLinkHtml;\n",
              "          element.appendChild(docLink);\n",
              "        }\n",
              "      </script>\n",
              "    </div>\n",
              "  </div>\n",
              "  "
            ]
          },
          "metadata": {},
          "execution_count": 36
        }
      ],
      "source": [
        "def remove_tuple_characters(s):\n",
        "    return [re.sub(r'(.)\\1{2,}', r'\\1', w) for w in s]\n",
        "\n",
        "df['clean_text'] = df[['clean_text']].apply(remove_tuple_characters)\n",
        "\n",
        "print(df.shape)\n",
        "df.head(15)"
      ]
    },
    {
      "cell_type": "markdown",
      "source": [
        "### Stemming"
      ],
      "metadata": {
        "id": "Xl6_qwx1eTyj"
      }
    },
    {
      "cell_type": "code",
      "source": [
        "df.to_csv('tmp.csv')"
      ],
      "metadata": {
        "id": "9mvkKsWa49ky"
      },
      "execution_count": 38,
      "outputs": []
    },
    {
      "cell_type": "code",
      "source": [
        "import nltk\n",
        "st = PorterStemmer()\n",
        "def stem_text(s):\n",
        "  return [st.stem(word) for word in s.split()]\n",
        "\n",
        "df['stemmed_text'] = df['clean_text'].apply(lambda x: stem_text(x))\n",
        "df['stemmed_text'].head()"
      ],
      "metadata": {
        "colab": {
          "base_uri": "https://localhost:8080/"
        },
        "id": "IfoCwCt0eVLu",
        "outputId": "94af1666-d34c-4f16-b485-37957c4c07fe"
      },
      "execution_count": 39,
      "outputs": [
        {
          "output_type": "execute_result",
          "data": {
            "text/plain": [
              "0    [aw, that, bummer, you, shoulda, got, david, c...\n",
              "1    [upset, that, cant, updat, hi, facebook, text,...\n",
              "2    [dive, mani, time, for, the, ball, manag, save...\n",
              "3      [whole, bodi, feel, itchi, and, like, it, fire]\n",
              "4    [it, not, behav, all, im, mad, whi, here, beca...\n",
              "Name: stemmed_text, dtype: object"
            ]
          },
          "metadata": {},
          "execution_count": 39
        }
      ]
    },
    {
      "cell_type": "code",
      "source": [
        "df['stemmed_text'].tail()"
      ],
      "metadata": {
        "colab": {
          "base_uri": "https://localhost:8080/"
        },
        "id": "YGzcJ14llYTX",
        "outputId": "f58900f2-a9bd-4388-a47b-194da1ec8015"
      },
      "execution_count": 40,
      "outputs": [
        {
          "output_type": "execute_result",
          "data": {
            "text/plain": [
              "1599995    [just, woke, have, school, the, best, feel, ever]\n",
              "1599996    [thewdbcom, veri, cool, hear, old, walt, inter...\n",
              "1599997    [are, you, readi, for, your, mojo, makeov, ask...\n",
              "1599998    [happi, 38th, birthday, boo, al, time, tupac, ...\n",
              "1599999                            [happi, chariti, tuesday]\n",
              "Name: stemmed_text, dtype: object"
            ]
          },
          "metadata": {},
          "execution_count": 40
        }
      ]
    },
    {
      "cell_type": "code",
      "source": [
        "df.shape"
      ],
      "metadata": {
        "colab": {
          "base_uri": "https://localhost:8080/"
        },
        "id": "WnqWZxan3iaf",
        "outputId": "20b35d6e-864c-495e-9df9-d7558566c850"
      },
      "execution_count": 41,
      "outputs": [
        {
          "output_type": "execute_result",
          "data": {
            "text/plain": [
              "(1600000, 4)"
            ]
          },
          "metadata": {},
          "execution_count": 41
        }
      ]
    },
    {
      "cell_type": "markdown",
      "metadata": {
        "id": "yG93RxduZhmN"
      },
      "source": [
        "### Lemmatization"
      ]
    },
    {
      "cell_type": "code",
      "execution_count": 42,
      "metadata": {
        "colab": {
          "base_uri": "https://localhost:8080/"
        },
        "id": "sVwCfDeaXjM1",
        "outputId": "23d9c79b-f47b-4cfd-f669-3d86a015171f"
      },
      "outputs": [
        {
          "output_type": "execute_result",
          "data": {
            "text/plain": [
              "0    [aw, thats, bummer, you, shoulda, got, david, ...\n",
              "1    [upset, that, cant, update, his, facebook, tex...\n",
              "2    [dived, many, time, for, the, ball, managed, s...\n",
              "3      [whole, body, feel, itchy, and, like, it, fire]\n",
              "4    [it, not, behaving, all, im, mad, why, here, b...\n",
              "Name: lemmas, dtype: object"
            ]
          },
          "metadata": {},
          "execution_count": 42
        }
      ],
      "source": [
        "# def lemmatize(s):\n",
        "#     '''Lemmatizes the words in the sentences and returns them if theyre not stopwords or punctuation'''\n",
        "#     return [[w.lemma_.lower() for w in nlp(s_i) if w.lemma_.lower() not in nlp.Defaults.stop_words and not w.is_punct] for s_i in s]\n",
        "\n",
        "# df['lemmas'] = df[['clean_text']].apply(lemmatize)\n",
        "lm = WordNetLemmatizer()\n",
        "def lemmatize(s):\n",
        "    return [lm.lemmatize(word) for word in s.split()]\n",
        "    \n",
        "df['lemmas'] = df['clean_text'].apply(lambda x: lemmatize(x))\n",
        "df['lemmas'].head()"
      ]
    },
    {
      "cell_type": "code",
      "execution_count": 43,
      "metadata": {
        "id": "fhk14pmFQJue",
        "colab": {
          "base_uri": "https://localhost:8080/",
          "height": 337
        },
        "outputId": "f62b8042-4e3a-4b4c-d096-e093f29f27ef"
      },
      "outputs": [
        {
          "output_type": "execute_result",
          "data": {
            "text/plain": [
              "                                                      text  target  \\\n",
              "1599995  Just woke up. Having no school is the best fee...       1   \n",
              "1599996  TheWDB.com - Very cool to hear old Walt interv...       1   \n",
              "1599997  Are you ready for your MoJo Makeover? Ask me f...       1   \n",
              "1599998  Happy 38th Birthday to my boo of alll time!!! ...       1   \n",
              "1599999  happy #charitytuesday @theNSPCC @SparksCharity...       1   \n",
              "\n",
              "                                                clean_text  \\\n",
              "1599995      just woke having school the best feeling ever   \n",
              "1599996       thewdbcom very cool hear old walt interviews   \n",
              "1599997  are you ready for your mojo makeover ask for d...   \n",
              "1599998  happy 38th birthday boo al time tupac amaru sh...   \n",
              "1599999                              happy charity tuesday   \n",
              "\n",
              "                                              stemmed_text  \\\n",
              "1599995  [just, woke, have, school, the, best, feel, ever]   \n",
              "1599996  [thewdbcom, veri, cool, hear, old, walt, inter...   \n",
              "1599997  [are, you, readi, for, your, mojo, makeov, ask...   \n",
              "1599998  [happi, 38th, birthday, boo, al, time, tupac, ...   \n",
              "1599999                          [happi, chariti, tuesday]   \n",
              "\n",
              "                                                    lemmas  \n",
              "1599995  [just, woke, having, school, the, best, feelin...  \n",
              "1599996  [thewdbcom, very, cool, hear, old, walt, inter...  \n",
              "1599997  [are, you, ready, for, your, mojo, makeover, a...  \n",
              "1599998  [happy, 38th, birthday, boo, al, time, tupac, ...  \n",
              "1599999                          [happy, charity, tuesday]  "
            ],
            "text/html": [
              "\n",
              "  <div id=\"df-0985a19e-1ab9-4217-a30b-6168950de075\">\n",
              "    <div class=\"colab-df-container\">\n",
              "      <div>\n",
              "<style scoped>\n",
              "    .dataframe tbody tr th:only-of-type {\n",
              "        vertical-align: middle;\n",
              "    }\n",
              "\n",
              "    .dataframe tbody tr th {\n",
              "        vertical-align: top;\n",
              "    }\n",
              "\n",
              "    .dataframe thead th {\n",
              "        text-align: right;\n",
              "    }\n",
              "</style>\n",
              "<table border=\"1\" class=\"dataframe\">\n",
              "  <thead>\n",
              "    <tr style=\"text-align: right;\">\n",
              "      <th></th>\n",
              "      <th>text</th>\n",
              "      <th>target</th>\n",
              "      <th>clean_text</th>\n",
              "      <th>stemmed_text</th>\n",
              "      <th>lemmas</th>\n",
              "    </tr>\n",
              "  </thead>\n",
              "  <tbody>\n",
              "    <tr>\n",
              "      <th>1599995</th>\n",
              "      <td>Just woke up. Having no school is the best fee...</td>\n",
              "      <td>1</td>\n",
              "      <td>just woke having school the best feeling ever</td>\n",
              "      <td>[just, woke, have, school, the, best, feel, ever]</td>\n",
              "      <td>[just, woke, having, school, the, best, feelin...</td>\n",
              "    </tr>\n",
              "    <tr>\n",
              "      <th>1599996</th>\n",
              "      <td>TheWDB.com - Very cool to hear old Walt interv...</td>\n",
              "      <td>1</td>\n",
              "      <td>thewdbcom very cool hear old walt interviews</td>\n",
              "      <td>[thewdbcom, veri, cool, hear, old, walt, inter...</td>\n",
              "      <td>[thewdbcom, very, cool, hear, old, walt, inter...</td>\n",
              "    </tr>\n",
              "    <tr>\n",
              "      <th>1599997</th>\n",
              "      <td>Are you ready for your MoJo Makeover? Ask me f...</td>\n",
              "      <td>1</td>\n",
              "      <td>are you ready for your mojo makeover ask for d...</td>\n",
              "      <td>[are, you, readi, for, your, mojo, makeov, ask...</td>\n",
              "      <td>[are, you, ready, for, your, mojo, makeover, a...</td>\n",
              "    </tr>\n",
              "    <tr>\n",
              "      <th>1599998</th>\n",
              "      <td>Happy 38th Birthday to my boo of alll time!!! ...</td>\n",
              "      <td>1</td>\n",
              "      <td>happy 38th birthday boo al time tupac amaru sh...</td>\n",
              "      <td>[happi, 38th, birthday, boo, al, time, tupac, ...</td>\n",
              "      <td>[happy, 38th, birthday, boo, al, time, tupac, ...</td>\n",
              "    </tr>\n",
              "    <tr>\n",
              "      <th>1599999</th>\n",
              "      <td>happy #charitytuesday @theNSPCC @SparksCharity...</td>\n",
              "      <td>1</td>\n",
              "      <td>happy charity tuesday</td>\n",
              "      <td>[happi, chariti, tuesday]</td>\n",
              "      <td>[happy, charity, tuesday]</td>\n",
              "    </tr>\n",
              "  </tbody>\n",
              "</table>\n",
              "</div>\n",
              "      <button class=\"colab-df-convert\" onclick=\"convertToInteractive('df-0985a19e-1ab9-4217-a30b-6168950de075')\"\n",
              "              title=\"Convert this dataframe to an interactive table.\"\n",
              "              style=\"display:none;\">\n",
              "        \n",
              "  <svg xmlns=\"http://www.w3.org/2000/svg\" height=\"24px\"viewBox=\"0 0 24 24\"\n",
              "       width=\"24px\">\n",
              "    <path d=\"M0 0h24v24H0V0z\" fill=\"none\"/>\n",
              "    <path d=\"M18.56 5.44l.94 2.06.94-2.06 2.06-.94-2.06-.94-.94-2.06-.94 2.06-2.06.94zm-11 1L8.5 8.5l.94-2.06 2.06-.94-2.06-.94L8.5 2.5l-.94 2.06-2.06.94zm10 10l.94 2.06.94-2.06 2.06-.94-2.06-.94-.94-2.06-.94 2.06-2.06.94z\"/><path d=\"M17.41 7.96l-1.37-1.37c-.4-.4-.92-.59-1.43-.59-.52 0-1.04.2-1.43.59L10.3 9.45l-7.72 7.72c-.78.78-.78 2.05 0 2.83L4 21.41c.39.39.9.59 1.41.59.51 0 1.02-.2 1.41-.59l7.78-7.78 2.81-2.81c.8-.78.8-2.07 0-2.86zM5.41 20L4 18.59l7.72-7.72 1.47 1.35L5.41 20z\"/>\n",
              "  </svg>\n",
              "      </button>\n",
              "      \n",
              "  <style>\n",
              "    .colab-df-container {\n",
              "      display:flex;\n",
              "      flex-wrap:wrap;\n",
              "      gap: 12px;\n",
              "    }\n",
              "\n",
              "    .colab-df-convert {\n",
              "      background-color: #E8F0FE;\n",
              "      border: none;\n",
              "      border-radius: 50%;\n",
              "      cursor: pointer;\n",
              "      display: none;\n",
              "      fill: #1967D2;\n",
              "      height: 32px;\n",
              "      padding: 0 0 0 0;\n",
              "      width: 32px;\n",
              "    }\n",
              "\n",
              "    .colab-df-convert:hover {\n",
              "      background-color: #E2EBFA;\n",
              "      box-shadow: 0px 1px 2px rgba(60, 64, 67, 0.3), 0px 1px 3px 1px rgba(60, 64, 67, 0.15);\n",
              "      fill: #174EA6;\n",
              "    }\n",
              "\n",
              "    [theme=dark] .colab-df-convert {\n",
              "      background-color: #3B4455;\n",
              "      fill: #D2E3FC;\n",
              "    }\n",
              "\n",
              "    [theme=dark] .colab-df-convert:hover {\n",
              "      background-color: #434B5C;\n",
              "      box-shadow: 0px 1px 3px 1px rgba(0, 0, 0, 0.15);\n",
              "      filter: drop-shadow(0px 1px 2px rgba(0, 0, 0, 0.3));\n",
              "      fill: #FFFFFF;\n",
              "    }\n",
              "  </style>\n",
              "\n",
              "      <script>\n",
              "        const buttonEl =\n",
              "          document.querySelector('#df-0985a19e-1ab9-4217-a30b-6168950de075 button.colab-df-convert');\n",
              "        buttonEl.style.display =\n",
              "          google.colab.kernel.accessAllowed ? 'block' : 'none';\n",
              "\n",
              "        async function convertToInteractive(key) {\n",
              "          const element = document.querySelector('#df-0985a19e-1ab9-4217-a30b-6168950de075');\n",
              "          const dataTable =\n",
              "            await google.colab.kernel.invokeFunction('convertToInteractive',\n",
              "                                                     [key], {});\n",
              "          if (!dataTable) return;\n",
              "\n",
              "          const docLinkHtml = 'Like what you see? Visit the ' +\n",
              "            '<a target=\"_blank\" href=https://colab.research.google.com/notebooks/data_table.ipynb>data table notebook</a>'\n",
              "            + ' to learn more about interactive tables.';\n",
              "          element.innerHTML = '';\n",
              "          dataTable['output_type'] = 'display_data';\n",
              "          await google.colab.output.renderOutput(dataTable, element);\n",
              "          const docLink = document.createElement('div');\n",
              "          docLink.innerHTML = docLinkHtml;\n",
              "          element.appendChild(docLink);\n",
              "        }\n",
              "      </script>\n",
              "    </div>\n",
              "  </div>\n",
              "  "
            ]
          },
          "metadata": {},
          "execution_count": 43
        }
      ],
      "source": [
        "df.tail()"
      ]
    },
    {
      "cell_type": "code",
      "execution_count": 44,
      "metadata": {
        "id": "_J1t15XfOhaa",
        "colab": {
          "base_uri": "https://localhost:8080/"
        },
        "outputId": "617f1ef4-e344-453e-a0f8-e1566343d839"
      },
      "outputs": [
        {
          "output_type": "stream",
          "name": "stdout",
          "text": [
            "cant believe have wait another months for phone contract end im bored now the month contract would have run out\n",
            "['cant', 'believ', 'have', 'wait', 'anoth', 'month', 'for', 'phone', 'contract', 'end', 'im', 'bore', 'now', 'the', 'month', 'contract', 'would', 'have', 'run', 'out']\n",
            "['cant', 'believe', 'have', 'wait', 'another', 'month', 'for', 'phone', 'contract', 'end', 'im', 'bored', 'now', 'the', 'month', 'contract', 'would', 'have', 'run', 'out']\n"
          ]
        }
      ],
      "source": [
        "print(df.at[200000, \"clean_text\"])\n",
        "print(df.at[200000, \"stemmed_text\"])\n",
        "print(df.at[200000, \"lemmas\"])"
      ]
    },
    {
      "cell_type": "code",
      "execution_count": 45,
      "metadata": {
        "id": "P8okgjL5eVSD"
      },
      "outputs": [],
      "source": [
        "df.to_csv('twitter_lemmas.csv')"
      ]
    },
    {
      "cell_type": "code",
      "execution_count": 46,
      "metadata": {
        "id": "fsKWphekOfYL",
        "colab": {
          "base_uri": "https://localhost:8080/"
        },
        "outputId": "21a16389-ff94-4184-97d0-780e7db69620"
      },
      "outputs": [
        {
          "output_type": "stream",
          "name": "stdout",
          "text": [
            "(1600000, 5)\n",
            "(1595618, 5)\n"
          ]
        }
      ],
      "source": [
        "print(df.shape)\n",
        "df = df[df['lemmas'].apply(lambda x: len(x)) > 0]\n",
        "print(df.shape)"
      ]
    },
    {
      "cell_type": "code",
      "source": [
        "df.head()"
      ],
      "metadata": {
        "colab": {
          "base_uri": "https://localhost:8080/",
          "height": 337
        },
        "id": "GnZI3gUpww02",
        "outputId": "50dd47f5-21aa-4b78-aa13-f36b766961b2"
      },
      "execution_count": 47,
      "outputs": [
        {
          "output_type": "execute_result",
          "data": {
            "text/plain": [
              "                                                text  target  \\\n",
              "0  @switchfoot http://twitpic.com/2y1zl - Awww, t...       0   \n",
              "1  is upset that he can't update his Facebook by ...       0   \n",
              "2  @Kenichan I dived many times for the ball. Man...       0   \n",
              "3    my whole body feels itchy and like its on fire        0   \n",
              "4  @nationwideclass no, it's not behaving at all....       0   \n",
              "\n",
              "                                          clean_text  \\\n",
              "0  aw thats bummer you shoulda got david carr thi...   \n",
              "1  upset that cant update his facebook texting an...   \n",
              "2  dived many times for the ball managed save the...   \n",
              "3           whole body feels itchy and like its fire   \n",
              "4  its not behaving all im mad why here because c...   \n",
              "\n",
              "                                        stemmed_text  \\\n",
              "0  [aw, that, bummer, you, shoulda, got, david, c...   \n",
              "1  [upset, that, cant, updat, hi, facebook, text,...   \n",
              "2  [dive, mani, time, for, the, ball, manag, save...   \n",
              "3    [whole, bodi, feel, itchi, and, like, it, fire]   \n",
              "4  [it, not, behav, all, im, mad, whi, here, beca...   \n",
              "\n",
              "                                              lemmas  \n",
              "0  [aw, thats, bummer, you, shoulda, got, david, ...  \n",
              "1  [upset, that, cant, update, his, facebook, tex...  \n",
              "2  [dived, many, time, for, the, ball, managed, s...  \n",
              "3    [whole, body, feel, itchy, and, like, it, fire]  \n",
              "4  [it, not, behaving, all, im, mad, why, here, b...  "
            ],
            "text/html": [
              "\n",
              "  <div id=\"df-92680bb7-1a28-481e-b911-5a4c41643fad\">\n",
              "    <div class=\"colab-df-container\">\n",
              "      <div>\n",
              "<style scoped>\n",
              "    .dataframe tbody tr th:only-of-type {\n",
              "        vertical-align: middle;\n",
              "    }\n",
              "\n",
              "    .dataframe tbody tr th {\n",
              "        vertical-align: top;\n",
              "    }\n",
              "\n",
              "    .dataframe thead th {\n",
              "        text-align: right;\n",
              "    }\n",
              "</style>\n",
              "<table border=\"1\" class=\"dataframe\">\n",
              "  <thead>\n",
              "    <tr style=\"text-align: right;\">\n",
              "      <th></th>\n",
              "      <th>text</th>\n",
              "      <th>target</th>\n",
              "      <th>clean_text</th>\n",
              "      <th>stemmed_text</th>\n",
              "      <th>lemmas</th>\n",
              "    </tr>\n",
              "  </thead>\n",
              "  <tbody>\n",
              "    <tr>\n",
              "      <th>0</th>\n",
              "      <td>@switchfoot http://twitpic.com/2y1zl - Awww, t...</td>\n",
              "      <td>0</td>\n",
              "      <td>aw thats bummer you shoulda got david carr thi...</td>\n",
              "      <td>[aw, that, bummer, you, shoulda, got, david, c...</td>\n",
              "      <td>[aw, thats, bummer, you, shoulda, got, david, ...</td>\n",
              "    </tr>\n",
              "    <tr>\n",
              "      <th>1</th>\n",
              "      <td>is upset that he can't update his Facebook by ...</td>\n",
              "      <td>0</td>\n",
              "      <td>upset that cant update his facebook texting an...</td>\n",
              "      <td>[upset, that, cant, updat, hi, facebook, text,...</td>\n",
              "      <td>[upset, that, cant, update, his, facebook, tex...</td>\n",
              "    </tr>\n",
              "    <tr>\n",
              "      <th>2</th>\n",
              "      <td>@Kenichan I dived many times for the ball. Man...</td>\n",
              "      <td>0</td>\n",
              "      <td>dived many times for the ball managed save the...</td>\n",
              "      <td>[dive, mani, time, for, the, ball, manag, save...</td>\n",
              "      <td>[dived, many, time, for, the, ball, managed, s...</td>\n",
              "    </tr>\n",
              "    <tr>\n",
              "      <th>3</th>\n",
              "      <td>my whole body feels itchy and like its on fire</td>\n",
              "      <td>0</td>\n",
              "      <td>whole body feels itchy and like its fire</td>\n",
              "      <td>[whole, bodi, feel, itchi, and, like, it, fire]</td>\n",
              "      <td>[whole, body, feel, itchy, and, like, it, fire]</td>\n",
              "    </tr>\n",
              "    <tr>\n",
              "      <th>4</th>\n",
              "      <td>@nationwideclass no, it's not behaving at all....</td>\n",
              "      <td>0</td>\n",
              "      <td>its not behaving all im mad why here because c...</td>\n",
              "      <td>[it, not, behav, all, im, mad, whi, here, beca...</td>\n",
              "      <td>[it, not, behaving, all, im, mad, why, here, b...</td>\n",
              "    </tr>\n",
              "  </tbody>\n",
              "</table>\n",
              "</div>\n",
              "      <button class=\"colab-df-convert\" onclick=\"convertToInteractive('df-92680bb7-1a28-481e-b911-5a4c41643fad')\"\n",
              "              title=\"Convert this dataframe to an interactive table.\"\n",
              "              style=\"display:none;\">\n",
              "        \n",
              "  <svg xmlns=\"http://www.w3.org/2000/svg\" height=\"24px\"viewBox=\"0 0 24 24\"\n",
              "       width=\"24px\">\n",
              "    <path d=\"M0 0h24v24H0V0z\" fill=\"none\"/>\n",
              "    <path d=\"M18.56 5.44l.94 2.06.94-2.06 2.06-.94-2.06-.94-.94-2.06-.94 2.06-2.06.94zm-11 1L8.5 8.5l.94-2.06 2.06-.94-2.06-.94L8.5 2.5l-.94 2.06-2.06.94zm10 10l.94 2.06.94-2.06 2.06-.94-2.06-.94-.94-2.06-.94 2.06-2.06.94z\"/><path d=\"M17.41 7.96l-1.37-1.37c-.4-.4-.92-.59-1.43-.59-.52 0-1.04.2-1.43.59L10.3 9.45l-7.72 7.72c-.78.78-.78 2.05 0 2.83L4 21.41c.39.39.9.59 1.41.59.51 0 1.02-.2 1.41-.59l7.78-7.78 2.81-2.81c.8-.78.8-2.07 0-2.86zM5.41 20L4 18.59l7.72-7.72 1.47 1.35L5.41 20z\"/>\n",
              "  </svg>\n",
              "      </button>\n",
              "      \n",
              "  <style>\n",
              "    .colab-df-container {\n",
              "      display:flex;\n",
              "      flex-wrap:wrap;\n",
              "      gap: 12px;\n",
              "    }\n",
              "\n",
              "    .colab-df-convert {\n",
              "      background-color: #E8F0FE;\n",
              "      border: none;\n",
              "      border-radius: 50%;\n",
              "      cursor: pointer;\n",
              "      display: none;\n",
              "      fill: #1967D2;\n",
              "      height: 32px;\n",
              "      padding: 0 0 0 0;\n",
              "      width: 32px;\n",
              "    }\n",
              "\n",
              "    .colab-df-convert:hover {\n",
              "      background-color: #E2EBFA;\n",
              "      box-shadow: 0px 1px 2px rgba(60, 64, 67, 0.3), 0px 1px 3px 1px rgba(60, 64, 67, 0.15);\n",
              "      fill: #174EA6;\n",
              "    }\n",
              "\n",
              "    [theme=dark] .colab-df-convert {\n",
              "      background-color: #3B4455;\n",
              "      fill: #D2E3FC;\n",
              "    }\n",
              "\n",
              "    [theme=dark] .colab-df-convert:hover {\n",
              "      background-color: #434B5C;\n",
              "      box-shadow: 0px 1px 3px 1px rgba(0, 0, 0, 0.15);\n",
              "      filter: drop-shadow(0px 1px 2px rgba(0, 0, 0, 0.3));\n",
              "      fill: #FFFFFF;\n",
              "    }\n",
              "  </style>\n",
              "\n",
              "      <script>\n",
              "        const buttonEl =\n",
              "          document.querySelector('#df-92680bb7-1a28-481e-b911-5a4c41643fad button.colab-df-convert');\n",
              "        buttonEl.style.display =\n",
              "          google.colab.kernel.accessAllowed ? 'block' : 'none';\n",
              "\n",
              "        async function convertToInteractive(key) {\n",
              "          const element = document.querySelector('#df-92680bb7-1a28-481e-b911-5a4c41643fad');\n",
              "          const dataTable =\n",
              "            await google.colab.kernel.invokeFunction('convertToInteractive',\n",
              "                                                     [key], {});\n",
              "          if (!dataTable) return;\n",
              "\n",
              "          const docLinkHtml = 'Like what you see? Visit the ' +\n",
              "            '<a target=\"_blank\" href=https://colab.research.google.com/notebooks/data_table.ipynb>data table notebook</a>'\n",
              "            + ' to learn more about interactive tables.';\n",
              "          element.innerHTML = '';\n",
              "          dataTable['output_type'] = 'display_data';\n",
              "          await google.colab.output.renderOutput(dataTable, element);\n",
              "          const docLink = document.createElement('div');\n",
              "          docLink.innerHTML = docLinkHtml;\n",
              "          element.appendChild(docLink);\n",
              "        }\n",
              "      </script>\n",
              "    </div>\n",
              "  </div>\n",
              "  "
            ]
          },
          "metadata": {},
          "execution_count": 47
        }
      ]
    },
    {
      "cell_type": "markdown",
      "metadata": {
        "id": "Mb7G35CRbbEX"
      },
      "source": [
        "### Train test split"
      ]
    },
    {
      "cell_type": "code",
      "execution_count": 48,
      "metadata": {
        "id": "IzS75rW0bfI9"
      },
      "outputs": [],
      "source": [
        "X = df.lemmas\n",
        "y = df.target"
      ]
    },
    {
      "cell_type": "code",
      "execution_count": 49,
      "metadata": {
        "id": "5eSB6tiGb7ab"
      },
      "outputs": [],
      "source": [
        "X_train, X_test, y_train, y_test = train_test_split(X, y, test_size = 0.1)"
      ]
    },
    {
      "cell_type": "markdown",
      "metadata": {
        "id": "qVGtkmjuNVz4"
      },
      "source": [
        "### Vectorization"
      ]
    },
    {
      "cell_type": "code",
      "execution_count": 50,
      "metadata": {
        "id": "D27uASOFNXYN"
      },
      "outputs": [],
      "source": [
        "from sklearn.feature_extraction.text import CountVectorizer, TfidfVectorizer"
      ]
    },
    {
      "cell_type": "code",
      "execution_count": 51,
      "metadata": {
        "id": "W4echKjfNqiI"
      },
      "outputs": [],
      "source": [
        "tfidf_vectorizer = TfidfVectorizer(\n",
        "    analyzer='word',\n",
        "    ngram_range=(1,2),\n",
        "    max_features=500000,\n",
        ")"
      ]
    },
    {
      "cell_type": "code",
      "source": [
        "# Vectorizer doesnt work with lists\n",
        "def join_docs(s):\n",
        "  return ' '.join(s)\n",
        "\n",
        "X_train = X_train.apply(join_docs)\n",
        "X_test = X_test.apply(join_docs)"
      ],
      "metadata": {
        "id": "yNoafoDBxn9k"
      },
      "execution_count": 52,
      "outputs": []
    },
    {
      "cell_type": "code",
      "execution_count": 53,
      "metadata": {
        "id": "KE4Tp7LVbsJr"
      },
      "outputs": [],
      "source": [
        "X_train = tfidf_vectorizer.fit_transform(X_train)\n",
        "X_test = tfidf_vectorizer.transform(X_test)"
      ]
    },
    {
      "cell_type": "markdown",
      "metadata": {
        "id": "j21_r6TrcwlU"
      },
      "source": [
        "### Train and evaluate"
      ]
    },
    {
      "cell_type": "code",
      "execution_count": 54,
      "metadata": {
        "id": "tOEs8MJVcy7o"
      },
      "outputs": [],
      "source": [
        "def evaluate_model(model):\n",
        "  y_pred = model.predict(X_test)\n",
        "  print(classification_report(y_test, y_pred))\n",
        "  cf_matrix = confusion_matrix(y_test, y_pred)\n",
        "  categories = ['Negative','Positive']\n",
        "  group_names = ['True Neg','False Pos', 'False Neg','True Pos']\n",
        "  group_percentages = ['{0:.2%}'.format(value) for value in cf_matrix.flatten() / np.sum(cf_matrix)]\n",
        "  labels = [f'{v1}n{v2}' for v1, v2 in zip(group_names,group_percentages)]\n",
        "  labels = np.asarray(labels).reshape(2,2)\n",
        "  sns.heatmap(cf_matrix, annot = labels, cmap = 'Blues',fmt = '',\n",
        "  xticklabels = categories, yticklabels = categories)\n",
        "  plt.xlabel(\"Predicted values\", fontdict = {'size':14}, labelpad = 10)\n",
        "  plt.ylabel(\"Actual values\" , fontdict = {'size':14}, labelpad = 10)\n",
        "  plt.title (\"Confusion Matrix\", fontdict = {'size':18}, pad = 20)"
      ]
    },
    {
      "cell_type": "code",
      "source": [
        "#Grid search"
      ],
      "metadata": {
        "id": "9OeCqo1lDeXC"
      },
      "execution_count": null,
      "outputs": []
    },
    {
      "cell_type": "code",
      "execution_count": 61,
      "metadata": {
        "id": "BUZ3NYrOdXQ-",
        "colab": {
          "base_uri": "https://localhost:8080/",
          "height": 489
        },
        "outputId": "0c7328ee-70ce-4392-ba33-a7ff3ad5f704"
      },
      "outputs": [
        {
          "output_type": "stream",
          "name": "stdout",
          "text": [
            "              precision    recall  f1-score   support\n",
            "\n",
            "           0       0.83      0.81      0.82     79583\n",
            "           1       0.81      0.83      0.82     79979\n",
            "\n",
            "    accuracy                           0.82    159562\n",
            "   macro avg       0.82      0.82      0.82    159562\n",
            "weighted avg       0.82      0.82      0.82    159562\n",
            "\n"
          ]
        },
        {
          "output_type": "display_data",
          "data": {
            "text/plain": [
              "<Figure size 432x288 with 2 Axes>"
            ],
            "image/png": "[encoded data removed]"
          },
          "metadata": {
            "needs_background": "light"
          }
        }
      ],
      "source": [
        "LRmodel = LogisticRegression(n_jobs=-1)\n",
        "LRmodel.fit(X_train, y_train)\n",
        "evaluate_model(LRmodel)\n",
        "y_pred3 = LRmodel.predict(X_test)"
      ]
    },
    {
      "cell_type": "code",
      "source": [
        "from sklearn.metrics import accuracy_score, f1_score\n",
        "print(f1_score(y_test, y_pred3))"
      ],
      "metadata": {
        "colab": {
          "base_uri": "https://localhost:8080/"
        },
        "id": "R9yMrFnD0kzE",
        "outputId": "bcde92fa-14f8-4eb7-a61d-ed89c2ceeb09"
      },
      "execution_count": 62,
      "outputs": [
        {
          "output_type": "stream",
          "name": "stdout",
          "text": [
            "0.8212969604036306\n"
          ]
        }
      ]
    },
    {
      "cell_type": "markdown",
      "source": [
        "### Model export"
      ],
      "metadata": {
        "id": "NtYbIAe_7NAR"
      }
    },
    {
      "cell_type": "code",
      "source": [
        "import joblib\n",
        "\n",
        "joblib.dump(LRmodel, 'model.joblib')"
      ],
      "metadata": {
        "colab": {
          "base_uri": "https://localhost:8080/"
        },
        "id": "hTZndHby7Meq",
        "outputId": "b2281bfd-f96e-4567-9b14-53915f15dbb6"
      },
      "execution_count": 63,
      "outputs": [
        {
          "output_type": "execute_result",
          "data": {
            "text/plain": [
              "['model.joblib']"
            ]
          },
          "metadata": {},
          "execution_count": 63
        }
      ]
    },
    {
      "cell_type": "code",
      "source": [
        "model_load = joblib.load('model.joblib')"
      ],
      "metadata": {
        "id": "UbKkP1d2DDRd"
      },
      "execution_count": 64,
      "outputs": []
    },
    {
      "cell_type": "code",
      "source": [
        "evaluate_model(model_load)"
      ],
      "metadata": {
        "colab": {
          "base_uri": "https://localhost:8080/",
          "height": 489
        },
        "id": "v2kOhIlnDJlF",
        "outputId": "c6059566-1d3c-4681-e6e2-079a65b8ea47"
      },
      "execution_count": 65,
      "outputs": [
        {
          "output_type": "stream",
          "name": "stdout",
          "text": [
            "              precision    recall  f1-score   support\n",
            "\n",
            "           0       0.83      0.81      0.82     79583\n",
            "           1       0.81      0.83      0.82     79979\n",
            "\n",
            "    accuracy                           0.82    159562\n",
            "   macro avg       0.82      0.82      0.82    159562\n",
            "weighted avg       0.82      0.82      0.82    159562\n",
            "\n"
          ]
        },
        {
          "output_type": "display_data",
          "data": {
            "text/plain": [
              "<Figure size 432x288 with 2 Axes>"
            ],
            "image/png": "[encoded data removed]"
          },
          "metadata": {
            "needs_background": "light"
          }
        }
      ]
    }
  ],
  "metadata": {
    "colab": {
      "provenance": []
    },
    "kernelspec": {
      "display_name": "Python 3",
      "name": "python3"
    },
    "language_info": {
      "name": "python"
    }
  },
  "nbformat": 4,
  "nbformat_minor": 0
}